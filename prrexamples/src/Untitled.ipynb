{
 "cells": [
  {
   "cell_type": "code",
   "execution_count": 21,
   "id": "db238816",
   "metadata": {},
   "outputs": [],
   "source": [
    "# Example of finite state machines\n",
    "# First we show how to do the example using the pytransitions package\n",
    "# Make sure the package is installed: pip install transitions; pip install transitions[diagrams]  \n",
    "#\n",
    "# In ipython:\n",
    "#     from fsm_example import MoveBaseRecovery\n",
    "#     t = MoveBaseRecovery(\"base\")\n",
    "#     t.state\n",
    "#     t.stuck() # etc\n",
    "#     t.get_graph().draw('fsm_example.png', prog='dot')\n",
    "\n",
    "from transitions.extensions import GraphMachine\n",
    "\n",
    "class MoveBaseRecovery(object):\n",
    "  states = ['navigating', 'reset', 'rotate1', 'reset_aggressive', 'rotate2', 'abort', 'eat']\n",
    "\n",
    "  def __init__(self, name):\n",
    "    self.name = name\n",
    "    self.machine = GraphMachine(model=self, states=MoveBaseRecovery.states, initial='navigating')\n",
    "\n",
    "    self.machine.add_transition(trigger='stuck', source='navigating', dest='reset')\n",
    "    self.machine.add_transition(trigger='clear', source='reset', dest='navigating')\n",
    "    self.machine.add_transition(trigger='clear', source='rotate1', dest='navigating')\n",
    "    self.machine.add_transition(trigger='clear', source='reset_aggressive', dest='navigating')\n",
    "    self.machine.add_transition(trigger='clear', source='rotate2', dest='navigating')\n",
    "    self.machine.add_transition(trigger='stuck', source='reset', dest='rotate1')\n",
    "    self.machine.add_transition(trigger='stuck', source='rotate1', dest='reset_aggressive')\n",
    "    self.machine.add_transition(trigger='stuck', source='reset_aggressive', dest='rotate2')\n",
    "    self.machine.add_transition(trigger='stuck', source='rotate2', dest='abort')\n",
    "    self.machine.add_transition(trigger='hungry', source='navigating', dest='eat')\n",
    "    \n",
    "\n"
   ]
  },
  {
   "cell_type": "code",
   "execution_count": 22,
   "id": "a695a9a6",
   "metadata": {},
   "outputs": [],
   "source": [
    "t = MoveBaseRecovery(\"bas\")"
   ]
  },
  {
   "cell_type": "code",
   "execution_count": 23,
   "id": "56a494f8",
   "metadata": {},
   "outputs": [
    {
     "data": {
      "text/plain": [
       "'navigating'"
      ]
     },
     "execution_count": 23,
     "metadata": {},
     "output_type": "execute_result"
    }
   ],
   "source": [
    "t.state"
   ]
  },
  {
   "cell_type": "code",
   "execution_count": 24,
   "id": "403ba5ac",
   "metadata": {},
   "outputs": [
    {
     "data": {
      "text/plain": [
       "True"
      ]
     },
     "execution_count": 24,
     "metadata": {},
     "output_type": "execute_result"
    }
   ],
   "source": [
    "t.hungry()"
   ]
  },
  {
   "cell_type": "code",
   "execution_count": 25,
   "id": "31d62a37",
   "metadata": {},
   "outputs": [
    {
     "data": {
      "text/plain": [
       "'eat'"
      ]
     },
     "execution_count": 25,
     "metadata": {},
     "output_type": "execute_result"
    }
   ],
   "source": [
    "t.state"
   ]
  },
  {
   "cell_type": "code",
   "execution_count": 10,
   "id": "a7b7f8bb",
   "metadata": {},
   "outputs": [
    {
     "data": {
      "text/plain": [
       "True"
      ]
     },
     "execution_count": 10,
     "metadata": {},
     "output_type": "execute_result"
    }
   ],
   "source": [
    "t.stuck()"
   ]
  },
  {
   "cell_type": "code",
   "execution_count": 12,
   "id": "e809e4a4",
   "metadata": {},
   "outputs": [
    {
     "data": {
      "text/plain": [
       "True"
      ]
     },
     "execution_count": 12,
     "metadata": {},
     "output_type": "execute_result"
    }
   ],
   "source": [
    "t.clear()"
   ]
  },
  {
   "cell_type": "code",
   "execution_count": 26,
   "id": "d0eac724",
   "metadata": {},
   "outputs": [],
   "source": [
    "t.get_graph().draw('fsm_example.png', prog='dot')"
   ]
  },
  {
   "cell_type": "code",
   "execution_count": null,
   "id": "abdf26d4",
   "metadata": {},
   "outputs": [],
   "source": []
  }
 ],
 "metadata": {
  "kernelspec": {
   "display_name": "Python 3 (ipykernel)",
   "language": "python",
   "name": "python3"
  },
  "language_info": {
   "codemirror_mode": {
    "name": "ipython",
    "version": 3
   },
   "file_extension": ".py",
   "mimetype": "text/x-python",
   "name": "python",
   "nbconvert_exporter": "python",
   "pygments_lexer": "ipython3",
   "version": "3.9.12"
  }
 },
 "nbformat": 4,
 "nbformat_minor": 5
}
