{
 "cells": [
  {
   "cell_type": "code",
   "execution_count": 11,
   "id": "c3c23c0e",
   "metadata": {},
   "outputs": [],
   "source": [
    "from math import pi, sqrt, atan2, isclose, cos, sin, degrees, radians\n",
    "\n",
    "def turn_to_target(yaw, x0, y0, x1, y1):\n",
    "    \"\"\" Current position is x0, y0. Current orientation is angle yaw, where 0 is North and positive angles go counterclockwise. \n",
    "    Target destination is x1, y1. Compute needed turn to point directly at x1, y1.\"\"\"\n",
    "    delta_x = x1 - x0\n",
    "    delta_y = y1 - y0\n",
    "# Calculate the angle between the current orientation and the target point using the arctangent function: θ = atan2(Δy, Δx).\n",
    "    angle_to_target = atan2(delta_y, delta_x)\n",
    "# Calculate the angle difference between the target angle and the current angle: Δθ = θ - A.\n",
    "    turn_amount = angle_to_target - yaw\n",
    "    return turn_amount"
   ]
  },
  {
   "cell_type": "code",
   "execution_count": 9,
   "id": "d84f9034",
   "metadata": {},
   "outputs": [
    {
     "data": {
      "text/plain": [
       "0.0"
      ]
     },
     "execution_count": 9,
     "metadata": {},
     "output_type": "execute_result"
    }
   ],
   "source": [
    "turn_to_target(0, 0, 0, 1, 0)"
   ]
  },
  {
   "cell_type": "code",
   "execution_count": 12,
   "id": "acd8e1f1",
   "metadata": {},
   "outputs": [
    {
     "data": {
      "text/plain": [
       "45.0"
      ]
     },
     "execution_count": 12,
     "metadata": {},
     "output_type": "execute_result"
    }
   ],
   "source": [
    "degrees(turn_to_target(0, 0, 0, 1,1 ))"
   ]
  },
  {
   "cell_type": "code",
   "execution_count": 14,
   "id": "adc0cb54",
   "metadata": {},
   "outputs": [
    {
     "data": {
      "text/plain": [
       "-135.0"
      ]
     },
     "execution_count": 14,
     "metadata": {},
     "output_type": "execute_result"
    }
   ],
   "source": [
    "degrees(turn_to_target(radians(180), 0, 0, 1,1 ))"
   ]
  },
  {
   "cell_type": "code",
   "execution_count": 41,
   "id": "b0100d1e",
   "metadata": {},
   "outputs": [
    {
     "name": "stdout",
     "output_type": "stream",
     "text": [
      "0.0\n",
      "-90.0\n",
      "0.0\n",
      "135.0\n"
     ]
    }
   ],
   "source": [
    "rotation_cases = [[0, 0, 0, 1, 0, 0],\n",
    "                  [90, 0, 0, 1, 0, -90],\n",
    "                 [180, 0, 0, -1, 0, 0],\n",
    "                 [45, 0, 0, -1, 0, 135]]\n",
    "for case in rotation_cases:\n",
    "    assert degrees(turn_to_target(radians(case[0]), case[1], case[2], case[3], case[4])) == case[5]\n"
   ]
  },
  {
   "cell_type": "code",
   "execution_count": null,
   "id": "68c31e64",
   "metadata": {},
   "outputs": [],
   "source": []
  }
 ],
 "metadata": {
  "kernelspec": {
   "display_name": "Python 3 (ipykernel)",
   "language": "python",
   "name": "python3"
  },
  "language_info": {
   "codemirror_mode": {
    "name": "ipython",
    "version": 3
   },
   "file_extension": ".py",
   "mimetype": "text/x-python",
   "name": "python",
   "nbconvert_exporter": "python",
   "pygments_lexer": "ipython3",
   "version": "3.10.0"
  }
 },
 "nbformat": 4,
 "nbformat_minor": 5
}
