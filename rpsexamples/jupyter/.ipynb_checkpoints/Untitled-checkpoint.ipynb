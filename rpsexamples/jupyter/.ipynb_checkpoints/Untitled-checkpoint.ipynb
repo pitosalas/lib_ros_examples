{
 "cells": [
  {
   "cell_type": "code",
   "execution_count": 11,
   "id": "b45308ac",
   "metadata": {},
   "outputs": [],
   "source": [
    "from math import pi, sqrt, atan2, isclose, cos, sin, degrees, radians\n",
    "\n",
    "def turn_to_target(yaw, x0, y0, x1, y1):\n",
    "    \"\"\" Current position is x0, y0. Current orientation is angle yaw, where 0 is North and positive angles go counterclockwise. \n",
    "    Target destination is x1, y1. Compute needed turn to point directly at x1, y1.\"\"\"\n",
    "    delta_x = x1 - x0\n",
    "    delta_y = y1 - y0\n",
    "# Calculate the angle between the current orientation and the target point using the arctangent function: θ = atan2(Δy, Δx).\n",
    "    angle_to_target = atan2(delta_y, delta_x)\n",
    "# Calculate the angle difference between the target angle and the current angle: Δθ = θ - A.\n",
    "    turn_amount = angle_to_target - yaw\n",
    "    return turn_amount"
   ]
  },
  {
   "cell_type": "code",
   "execution_count": 9,
   "id": "0633842e",
   "metadata": {},
   "outputs": [
    {
     "data": {
      "text/plain": [
       "0.0"
      ]
     },
     "execution_count": 9,
     "metadata": {},
     "output_type": "execute_result"
    }
   ],
   "source": [
    "turn_to_target(0, 0, 0, 1, 0)"
   ]
  },
  {
   "cell_type": "code",
   "execution_count": 12,
   "id": "670fbfd9",
   "metadata": {},
   "outputs": [
    {
     "data": {
      "text/plain": [
       "45.0"
      ]
     },
     "execution_count": 12,
     "metadata": {},
     "output_type": "execute_result"
    }
   ],
   "source": [
    "degrees(turn_to_target(0, 0, 0, 1,1 ))"
   ]
  },
  {
   "cell_type": "code",
   "execution_count": 14,
   "id": "d2f1fe18",
   "metadata": {},
   "outputs": [
    {
     "data": {
      "text/plain": [
       "-135.0"
      ]
     },
     "execution_count": 14,
     "metadata": {},
     "output_type": "execute_result"
    }
   ],
   "source": [
    "degrees(turn_to_target(radians(180), 0, 0, 1,1 ))"
   ]
  },
  {
   "cell_type": "code",
   "execution_count": 34,
   "id": "95873b3f",
   "metadata": {},
   "outputs": [
    {
     "ename": "AssertionError",
     "evalue": "",
     "output_type": "error",
     "traceback": [
      "\u001b[0;31m---------------------------------------------------------------------------\u001b[0m",
      "\u001b[0;31mAssertionError\u001b[0m                            Traceback (most recent call last)",
      "Input \u001b[0;32mIn [34]\u001b[0m, in \u001b[0;36m<cell line: 3>\u001b[0;34m()\u001b[0m\n\u001b[1;32m      1\u001b[0m rotation_cases \u001b[38;5;241m=\u001b[39m [[\u001b[38;5;241m0\u001b[39m, \u001b[38;5;241m0\u001b[39m, \u001b[38;5;241m0\u001b[39m, \u001b[38;5;241m1\u001b[39m, \u001b[38;5;241m0\u001b[39m, \u001b[38;5;241m0\u001b[39m],\n\u001b[1;32m      2\u001b[0m                   [\u001b[38;5;241m90\u001b[39m, \u001b[38;5;241m0\u001b[39m, \u001b[38;5;241m0\u001b[39m, \u001b[38;5;241m1\u001b[39m, \u001b[38;5;241m0\u001b[39m, \u001b[38;5;241m90\u001b[39m]]\n\u001b[1;32m      3\u001b[0m \u001b[38;5;28;01mfor\u001b[39;00m case \u001b[38;5;129;01min\u001b[39;00m rotation_cases:\n\u001b[0;32m----> 4\u001b[0m     \u001b[38;5;28;01massert\u001b[39;00m degrees(turn_to_target(radians(case[\u001b[38;5;241m0\u001b[39m]), case[\u001b[38;5;241m1\u001b[39m], case[\u001b[38;5;241m2\u001b[39m], case[\u001b[38;5;241m3\u001b[39m], case[\u001b[38;5;241m4\u001b[39m])) \u001b[38;5;241m==\u001b[39m case[\u001b[38;5;241m5\u001b[39m]\n",
      "\u001b[0;31mAssertionError\u001b[0m: "
     ]
    }
   ],
   "source": [
    "rotation_cases = [[0, 0, 0, 1, 0, 0],\n",
    "                  [90, 0, 0, 1, 0, 90]]\n",
    "for case in rotation_cases:\n",
    "    print(degrees(turn_to_target(radians(case[0]), case[1], case[2], case[3], case[4])))\n",
    "    assert degrees(turn_to_target(radians(case[0]), case[1], case[2], case[3], case[4])) == case[5]\n"
   ]
  },
  {
   "cell_type": "code",
   "execution_count": null,
   "id": "be70969d",
   "metadata": {},
   "outputs": [],
   "source": []
  }
 ],
 "metadata": {
  "kernelspec": {
   "display_name": "Python 3 (ipykernel)",
   "language": "python",
   "name": "python3"
  },
  "language_info": {
   "codemirror_mode": {
    "name": "ipython",
    "version": 3
   },
   "file_extension": ".py",
   "mimetype": "text/x-python",
   "name": "python",
   "nbconvert_exporter": "python",
   "pygments_lexer": "ipython3",
   "version": "3.10.0"
  }
 },
 "nbformat": 4,
 "nbformat_minor": 5
}
