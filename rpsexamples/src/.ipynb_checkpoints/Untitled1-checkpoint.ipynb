{
 "cells": [
  {
   "cell_type": "code",
   "execution_count": 7,
   "id": "fadba75a",
   "metadata": {},
   "outputs": [],
   "source": [
    "from scipy import interpolate\n",
    "import numpy as np"
   ]
  },
  {
   "cell_type": "code",
   "execution_count": 8,
   "id": "ce312a2b",
   "metadata": {},
   "outputs": [],
   "source": [
    "    x = [0, 0, 2, 2]\n",
    "    y = [0, 2, 2, 0]\n"
   ]
  },
  {
   "cell_type": "code",
   "execution_count": 9,
   "id": "9f37bd34",
   "metadata": {},
   "outputs": [],
   "source": [
    "def __calc_s(x, y):\n",
    "    self.ds = np.hypot(np.diff(x), np.diff(y))\n",
    "    pr\n",
    "    s = [0.0]\n",
    "    s.extend(np.cumsum(self.ds))\n",
    "    return s\n"
   ]
  },
  {
   "cell_type": "code",
   "execution_count": 5,
   "id": "9c36f9b2",
   "metadata": {},
   "outputs": [],
   "source": [
    "self.s = self.__calc_s(x, y)\n",
    "self.sx = interpolate.interp1d(self.s, x, kind=kind)\n",
    "self.sy = interpolate.interp1d(self.s, y, kind=kind)\n"
   ]
  },
  {
   "cell_type": "code",
   "execution_count": 10,
   "id": "d01082e2",
   "metadata": {},
   "outputs": [],
   "source": [
    "ds = np.hypot(np.diff(x), np.diff(y))"
   ]
  },
  {
   "cell_type": "code",
   "execution_count": 15,
   "id": "120914d0",
   "metadata": {},
   "outputs": [],
   "source": [
    "s = [0.0]"
   ]
  },
  {
   "cell_type": "code",
   "execution_count": 12,
   "id": "ff872cee",
   "metadata": {},
   "outputs": [
    {
     "data": {
      "text/plain": [
       "array([0, 2, 0])"
      ]
     },
     "execution_count": 12,
     "metadata": {},
     "output_type": "execute_result"
    }
   ],
   "source": [
    "np.diff(x)"
   ]
  },
  {
   "cell_type": "code",
   "execution_count": null,
   "id": "74cb0986",
   "metadata": {},
   "outputs": [],
   "source": []
  }
 ],
 "metadata": {
  "kernelspec": {
   "display_name": "Python 3 (ipykernel)",
   "language": "python",
   "name": "python3"
  },
  "language_info": {
   "codemirror_mode": {
    "name": "ipython",
    "version": 3
   },
   "file_extension": ".py",
   "mimetype": "text/x-python",
   "name": "python",
   "nbconvert_exporter": "python",
   "pygments_lexer": "ipython3",
   "version": "3.10.5"
  }
 },
 "nbformat": 4,
 "nbformat_minor": 5
}
